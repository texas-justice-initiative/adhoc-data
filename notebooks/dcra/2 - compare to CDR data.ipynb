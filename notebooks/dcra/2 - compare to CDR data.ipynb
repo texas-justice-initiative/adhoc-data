{
 "cells": [
  {
   "cell_type": "code",
   "execution_count": null,
   "id": "8fbaa796-d2e9-44f5-8937-2d57084507cf",
   "metadata": {},
   "outputs": [],
   "source": [
    "import dotenv\n",
    "import sqlalchemy as sa\n",
    "import pandas as pd\n",
    "import os"
   ]
  },
  {
   "cell_type": "code",
   "execution_count": null,
   "id": "be0a480f-851a-47ad-ac53-e908599628f5",
   "metadata": {},
   "outputs": [],
   "source": [
    "dotenv.load_dotenv()\n",
    "postgres_engine = sa.create_engine(\n",
    "    f'postgresql+psycopg2://{os.getenv(\"DB_USERNAME\")}:{os.getenv(\"DB_PASSWORD\")}@{os.getenv(\"DB_URI\")}:{os.getenv(\"DB_PORT\")}/{os.getenv(\"DB_NAME\")}'\n",
    ")"
   ]
  },
  {
   "cell_type": "code",
   "execution_count": null,
   "id": "55e0e0a9-a110-4ef4-8215-3ba5e8b80b24",
   "metadata": {},
   "outputs": [],
   "source": [
    "def query(query_text: str) -> pd.DataFrame:\n",
    "    with postgres_engine.begin() as con:\n",
    "        query = sa.text(query_text)\n",
    "        return pd.read_sql(query, con=con)"
   ]
  },
  {
   "cell_type": "code",
   "execution_count": null,
   "id": "66d8e32d-7967-47b7-af46-ea39497c3cf2",
   "metadata": {},
   "outputs": [],
   "source": [
    "query('''SELECT * FROM heat_deaths.custodial_death_reports limit 5''')"
   ]
  }
 ],
 "metadata": {
  "kernelspec": {
   "display_name": "Python 3 (ipykernel)",
   "language": "python",
   "name": "python3"
  },
  "language_info": {
   "codemirror_mode": {
    "name": "ipython",
    "version": 3
   },
   "file_extension": ".py",
   "mimetype": "text/x-python",
   "name": "python",
   "nbconvert_exporter": "python",
   "pygments_lexer": "ipython3",
   "version": "3.10.12"
  }
 },
 "nbformat": 4,
 "nbformat_minor": 5
}
