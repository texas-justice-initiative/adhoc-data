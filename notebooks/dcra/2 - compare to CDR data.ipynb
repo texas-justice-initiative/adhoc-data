{
 "cells": [
  {
   "cell_type": "markdown",
   "id": "053eab4f-5a6c-417c-b713-30778cbdf659",
   "metadata": {},
   "source": [
    "## 2. Compare DCRA and CDR data\n",
    "\n",
    "Try to compare the DCRA and CDR data and assess how difficult it will be to match incidents in the two datasets.\n",
    "\n",
    "1. For the quarter of cleaned DCRA data, pull the CDR data for the same time period (`adhoc.custodial_death_reports`)\n",
    "2. Identify common columns between the two datasets:\n",
    "   - Compare high-level descriptive statistics (ie, look at incidents by age of the decedent, time of death, location, and/or cause)\n",
    "   - Create a mapping between columns with the same information but different names or data formats (for example, first name may be all caps in one dataset but title case in another; or there may be different date formats)\n",
    "4. Attempt to join the two datasets together using some combination of columns, and make recommendation for how we should do this for the final analysis\n"
   ]
  },
  {
   "cell_type": "code",
   "execution_count": 2,
   "id": "8fbaa796-d2e9-44f5-8937-2d57084507cf",
   "metadata": {},
   "outputs": [],
   "source": [
    "import dotenv\n",
    "import sqlalchemy as sa\n",
    "import pandas as pd\n",
    "import os"
   ]
  },
  {
   "cell_type": "code",
   "execution_count": 3,
   "id": "be0a480f-851a-47ad-ac53-e908599628f5",
   "metadata": {},
   "outputs": [],
   "source": [
    "dotenv.load_dotenv()\n",
    "postgres_engine = sa.create_engine(\n",
    "    f'postgresql+psycopg2://{os.getenv(\"DB_USERNAME\")}:{os.getenv(\"DB_PASSWORD\")}@{os.getenv(\"DB_URI\")}:{os.getenv(\"DB_PORT\")}/{os.getenv(\"DB_NAME\")}'\n",
    ")"
   ]
  },
  {
   "cell_type": "code",
   "execution_count": 4,
   "id": "55e0e0a9-a110-4ef4-8215-3ba5e8b80b24",
   "metadata": {},
   "outputs": [],
   "source": [
    "def query(query_text: str) -> pd.DataFrame:\n",
    "    with postgres_engine.begin() as con:\n",
    "        query = sa.text(query_text)\n",
    "        return pd.read_sql(query, con=con)"
   ]
  },
  {
   "cell_type": "code",
   "execution_count": 6,
   "id": "66d8e32d-7967-47b7-af46-ea39497c3cf2",
   "metadata": {},
   "outputs": [
    {
     "data": {
      "text/html": [
       "<div>\n",
       "<style scoped>\n",
       "    .dataframe tbody tr th:only-of-type {\n",
       "        vertical-align: middle;\n",
       "    }\n",
       "\n",
       "    .dataframe tbody tr th {\n",
       "        vertical-align: top;\n",
       "    }\n",
       "\n",
       "    .dataframe thead th {\n",
       "        text-align: right;\n",
       "    }\n",
       "</style>\n",
       "<table border=\"1\" class=\"dataframe\">\n",
       "  <thead>\n",
       "    <tr style=\"text-align: right;\">\n",
       "      <th></th>\n",
       "      <th>min</th>\n",
       "      <th>max</th>\n",
       "    </tr>\n",
       "  </thead>\n",
       "  <tbody>\n",
       "    <tr>\n",
       "      <th>0</th>\n",
       "      <td>2005-03-01 00:00:00</td>\n",
       "      <td>2024-02-08 00:00:00</td>\n",
       "    </tr>\n",
       "  </tbody>\n",
       "</table>\n",
       "</div>"
      ],
      "text/plain": [
       "                   min                  max\n",
       "0  2005-03-01 00:00:00  2024-02-08 00:00:00"
      ]
     },
     "execution_count": 6,
     "metadata": {},
     "output_type": "execute_result"
    }
   ],
   "source": [
    "query('''SELECT MIN(report_date), MAX(report_date) FROM adhoc.custodial_death_reports  limit 5''')"
   ]
  }
 ],
 "metadata": {
  "kernelspec": {
   "display_name": "Python 3 (ipykernel)",
   "language": "python",
   "name": "python3"
  },
  "language_info": {
   "codemirror_mode": {
    "name": "ipython",
    "version": 3
   },
   "file_extension": ".py",
   "mimetype": "text/x-python",
   "name": "python",
   "nbconvert_exporter": "python",
   "pygments_lexer": "ipython3",
   "version": "3.10.12"
  }
 },
 "nbformat": 4,
 "nbformat_minor": 5
}
