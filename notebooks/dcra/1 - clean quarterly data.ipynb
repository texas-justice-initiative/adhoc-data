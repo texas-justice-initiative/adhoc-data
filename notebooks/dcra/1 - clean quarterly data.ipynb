{
 "cells": [
  {
   "cell_type": "markdown",
   "id": "16cf200d-5ee0-4107-bdd7-89fb5357be5b",
   "metadata": {},
   "source": [
    "## 1. Clean Quarterly DCRA Data\n",
    "\n",
    "The first step in integrating the Death in Custody Act (DCRA) quarterly reports to TJI's data is understanding, cleaning, and converting the data into a standardized format. \n",
    "\n",
    "The target output of this task will be a function with the following specifications:\n",
    "- Input: S3 uri (example: `s3://arnold-ventures-project/dcra/raw_reports/475-23 Moravec - Documents for Release_16.xlsx`)\n",
    "- Output: The resulting data is loaded into a SQL table in our data warehouse (`adhoc.dcra_reports`)\n",
    "\n",
    "The final dataset will have:\n",
    "- All column headers in [snake case](https://en.wikipedia.org/wiki/Snake_case)\n",
    "- A data dictionary with all column meanings/any transformations performed\n",
    "- All true/false columns converted to boolean datatype (for example, convert any column where X is true and null is false to explicitly use true and false)\n",
    "- Any placeholder numbers (eg, 0 or 9999 for nulls) are replaced with actual null values\n",
    "- Any other transformations as needed \n",
    "\n",
    "Links:\n",
    "- [All datasets (TJI google drive)](https://drive.google.com/drive/u/0/folders/1Oci6fIlZC5_FA1lZwOkGZGAn6Ym6YAyH)\n",
    "- [Reporting FAQ](https://drive.google.com/file/d/1Ve5-HPKZ0VV4taOuuO8p-HvgVOYCyoVU/view?usp=drive_link)\n",
    "- [Questionaire used to create dataset](https://drive.google.com/file/d/1jFdcn4YvuHE9QaAA-QQNmpaxLIBm-mGq/view?usp=drive_link)"
   ]
  },
  {
   "cell_type": "code",
   "execution_count": 1,
   "id": "51e33cf3-70de-433b-b50c-0a7526b97393",
   "metadata": {},
   "outputs": [],
   "source": [
    "import pandas as pd\n",
    "import dotenv\n",
    "import sqlalchemy as sa\n",
    "import os"
   ]
  },
  {
   "cell_type": "code",
   "execution_count": 3,
   "id": "56831255-fbb3-437b-ae0c-66110472ab66",
   "metadata": {},
   "outputs": [],
   "source": [
    "dotenv.load_dotenv()\n",
    "postgres_engine = sa.create_engine(\n",
    "    f'postgresql+psycopg2://{os.getenv(\"DB_USERNAME\")}:{os.getenv(\"DB_PASSWORD\")}@{os.getenv(\"DB_URI\")}:{os.getenv(\"DB_PORT\")}/{os.getenv(\"DB_NAME\")}'\n",
    ")\n",
    "\n",
    "# example code to write to database\n",
    "# with postgres_engine.begin() as con:\n",
    "#     final_df.to_sql(name='dcra_reports', schema='adhoc', index=False, con=con, if_exists='append')"
   ]
  },
  {
   "cell_type": "code",
   "execution_count": null,
   "id": "2c5f1466-6e95-4565-9a88-12ff8f6635ef",
   "metadata": {},
   "outputs": [],
   "source": [
    "S3_URI = 's3://arnold-ventures-project/dcra/raw_reports/475-23 Moravec - Documents for Release_16.xlsx'\n",
    "df = pd.read_excel(S3_URI)"
   ]
  }
 ],
 "metadata": {
  "kernelspec": {
   "display_name": "Python 3 (ipykernel)",
   "language": "python",
   "name": "python3"
  },
  "language_info": {
   "codemirror_mode": {
    "name": "ipython",
    "version": 3
   },
   "file_extension": ".py",
   "mimetype": "text/x-python",
   "name": "python",
   "nbconvert_exporter": "python",
   "pygments_lexer": "ipython3",
   "version": "3.10.12"
  }
 },
 "nbformat": 4,
 "nbformat_minor": 5
}
