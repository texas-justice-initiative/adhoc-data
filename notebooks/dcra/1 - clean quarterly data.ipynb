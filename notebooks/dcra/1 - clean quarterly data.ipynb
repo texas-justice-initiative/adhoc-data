{
 "cells": [
  {
   "cell_type": "code",
   "execution_count": null,
   "id": "51e33cf3-70de-433b-b50c-0a7526b97393",
   "metadata": {},
   "outputs": [],
   "source": [
    "import pandas as pd"
   ]
  },
  {
   "cell_type": "code",
   "execution_count": null,
   "id": "2c5f1466-6e95-4565-9a88-12ff8f6635ef",
   "metadata": {},
   "outputs": [],
   "source": [
    "df = pd.read_excel('s3://arnold-ventures-project/dcra/raw_reports/475-23 Moravec - Documents for Release_16.xlsx')"
   ]
  },
  {
   "cell_type": "code",
   "execution_count": null,
   "id": "ef989b3c-15ec-47d7-ab37-286741fa867f",
   "metadata": {},
   "outputs": [],
   "source": []
  }
 ],
 "metadata": {
  "kernelspec": {
   "display_name": "Python 3 (ipykernel)",
   "language": "python",
   "name": "python3"
  },
  "language_info": {
   "codemirror_mode": {
    "name": "ipython",
    "version": 3
   },
   "file_extension": ".py",
   "mimetype": "text/x-python",
   "name": "python",
   "nbconvert_exporter": "python",
   "pygments_lexer": "ipython3",
   "version": "3.10.12"
  }
 },
 "nbformat": 4,
 "nbformat_minor": 5
}
