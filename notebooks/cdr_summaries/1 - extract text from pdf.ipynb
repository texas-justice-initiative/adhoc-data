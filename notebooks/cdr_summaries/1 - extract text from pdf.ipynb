{
 "cells": [
  {
   "cell_type": "markdown",
   "id": "91bf9644-213e-4e9d-955b-36f110a43bb2",
   "metadata": {},
   "source": [
    "\n",
    "Libraries:\n",
    "- [PyMuPDF](https://pymupdf.readthedocs.io/en/latest/installation.html)\n",
    "\n",
    "Links:\n",
    "- [CDR Reports](https://oag.my.site.com/cdr/cdrreportdeaths)"
   ]
  }
 ],
 "metadata": {
  "kernelspec": {
   "display_name": "Python 3 (ipykernel)",
   "language": "python",
   "name": "python3"
  },
  "language_info": {
   "codemirror_mode": {
    "name": "ipython",
    "version": 3
   },
   "file_extension": ".py",
   "mimetype": "text/x-python",
   "name": "python",
   "nbconvert_exporter": "python",
   "pygments_lexer": "ipython3",
   "version": "3.10.12"
  }
 },
 "nbformat": 4,
 "nbformat_minor": 5
}
